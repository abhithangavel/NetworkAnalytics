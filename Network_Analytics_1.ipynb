{
  "cells": [
    {
      "cell_type": "code",
      "execution_count": 1,
      "id": "3a8c799f",
      "metadata": {
        "id": "3a8c799f"
      },
      "outputs": [],
      "source": [
        "import numpy as np\n",
        "import pandas as pd\n",
        "import matplotlib.pyplot as plt\n",
        "import seaborn as sns"
      ]
    },
    {
      "cell_type": "code",
      "execution_count": 39,
      "id": "8bd1fb94",
      "metadata": {
        "id": "8bd1fb94"
      },
      "outputs": [],
      "source": [
        "zomato = pd.read_excel('/Users/abhi/Desktop/MSU/8. Coursework/3. Fall Semester/ITM881_Network Analytics/03_Project/Zomato_filtered.xlsx')\n",
        "swiggy = pd.read_excel('/Users/abhi/Desktop/MSU/8. Coursework/3. Fall Semester/ITM881_Network Analytics/03_Project/Swiggy_filtered.xlsx')"
      ]
    },
    {
      "cell_type": "markdown",
      "id": "d2ce20e7",
      "metadata": {},
      "source": [
        "### Sentiment Analysis"
      ]
    },
    {
      "cell_type": "code",
      "execution_count": 3,
      "id": "fe4dbfe6",
      "metadata": {},
      "outputs": [
        {
          "name": "stdout",
          "output_type": "stream",
          "text": [
            "                                      review_description sentiment\n",
            "0      A few months ago, the app worked flawlessly. U...  Positive\n",
            "1      Great delivery app. But off lately there have ...  Positive\n",
            "2      Your app and delivery everything is good. But ...  Positive\n",
            "3      Poor cust. Experience. I ordered items from a ...  Negative\n",
            "4      Zomato seems to have lost it recently. Have be...  Negative\n",
            "...                                                  ...       ...\n",
            "87964                   Very fast dilevery very good app  Positive\n",
            "87965  Good food with discounted from famous restaura...  Positive\n",
            "87966               Your delivery is so fast . I like it  Positive\n",
            "87967                 Nice service&cashback is very good  Positive\n",
            "87968                                      Gold is Gold!   Neutral\n",
            "\n",
            "[87969 rows x 2 columns]\n",
            "                                      review_description sentiment\n",
            "0      Swiggy clearly has to be one of the worst apps...  Negative\n",
            "1      The delivery time for each order has been ridi...  Positive\n",
            "2      used to be great. now it seems like they fired...  Positive\n",
            "3      Extremely horrible experience since the last f...   Neutral\n",
            "4      Swiggy doesn't compensate for your loss. One o...  Negative\n",
            "...                                                  ...       ...\n",
            "67973                               Very Nice Service !!  Positive\n",
            "67974  Hate it because of high delivery charges and l...  Negative\n",
            "67975                      good service thanks to Swiggy  Positive\n",
            "67976                            Good app, nice delivery  Positive\n",
            "67977  Worst app as well as the uneducated customer s...  Negative\n",
            "\n",
            "[67978 rows x 2 columns]\n"
          ]
        }
      ],
      "source": [
        "from textblob import TextBlob\n",
        "\n",
        "zomato['review_description'] = zomato['review_description'].astype(str)\n",
        "swiggy['review_description'] = swiggy['review_description'].astype(str)\n",
        "\n",
        "# Create a function to analyze sentiment\n",
        "def analyze_sentiment(text):\n",
        "    analysis = TextBlob(text)\n",
        "    if analysis.sentiment.polarity > 0.05:\n",
        "        return 'Positive'\n",
        "    elif analysis.sentiment.polarity < -0.05:\n",
        "        return 'Negative'\n",
        "    else:\n",
        "        return 'Neutral'\n",
        "\n",
        "zomato['sentiment'] = zomato['review_description'].apply(analyze_sentiment)\n",
        "swiggy['sentiment'] = swiggy['review_description'].apply(analyze_sentiment)\n",
        "\n",
        "# Display the resulting DataFrame with sentiment labels\n",
        "print(zomato[['review_description', 'sentiment']])\n",
        "print(swiggy[['review_description', 'sentiment']])\n"
      ]
    },
    {
      "cell_type": "code",
      "execution_count": 4,
      "id": "a320b6aa",
      "metadata": {},
      "outputs": [
        {
          "name": "stdout",
          "output_type": "stream",
          "text": [
            "Percentage of Positive Sentiments for Zomato: 54.89%\n",
            "Percentage of Negative Sentiments for Zomato: 31.76%\n",
            "Percentage of Neutral Sentiments for Zomato: 13.34%\n",
            "Percentage of Positive Sentiments for Swiggy: 41.91%\n",
            "Percentage of Negative Sentiments for Swiggy: 42.14%\n",
            "Percentage of Neutral Sentiments for Swiggy: 15.95%\n"
          ]
        }
      ],
      "source": [
        "# Count the number of occurrences for each sentiment label\n",
        "sentiment_counts_zomato = zomato['sentiment'].value_counts()\n",
        "sentiment_counts_swiggy = swiggy['sentiment'].value_counts()\n",
        "\n",
        "# Calculate the total number of samples\n",
        "total_samples_zomato = len(zomato)\n",
        "total_samples_swiggy = len(swiggy)\n",
        "\n",
        "\n",
        "# Calculate the percentage of each sentiment\n",
        "percentage_positive_z = (sentiment_counts_zomato.get('Positive', 0) / total_samples_zomato) * 100\n",
        "percentage_negative_z = (sentiment_counts_zomato.get('Negative', 0) / total_samples_zomato) * 100\n",
        "percentage_neutral_z = (sentiment_counts_zomato.get('Neutral', 0) / total_samples_zomato) * 100\n",
        "\n",
        "# Display the percentages\n",
        "print(f\"Percentage of Positive Sentiments for Zomato: {percentage_positive_z:.2f}%\")\n",
        "print(f\"Percentage of Negative Sentiments for Zomato: {percentage_negative_z:.2f}%\")\n",
        "print(f\"Percentage of Neutral Sentiments for Zomato: {percentage_neutral_z:.2f}%\")\n",
        "\n",
        "# Calculate the percentage of each sentiment\n",
        "percentage_positive_s = (sentiment_counts_swiggy.get('Positive', 0) / total_samples_swiggy) * 100\n",
        "percentage_negative_s = (sentiment_counts_swiggy.get('Negative', 0) / total_samples_swiggy) * 100\n",
        "percentage_neutral_s = (sentiment_counts_swiggy.get('Neutral', 0) / total_samples_swiggy) * 100\n",
        "\n",
        "# Display the percentages\n",
        "print(f\"Percentage of Positive Sentiments for Swiggy: {percentage_positive_s:.2f}%\")\n",
        "print(f\"Percentage of Negative Sentiments for Swiggy: {percentage_negative_s:.2f}%\")\n",
        "print(f\"Percentage of Neutral Sentiments for Swiggy: {percentage_neutral_s:.2f}%\")\n"
      ]
    },
    {
      "cell_type": "markdown",
      "id": "4a491e8f",
      "metadata": {},
      "source": [
        "### Zomato"
      ]
    },
    {
      "cell_type": "code",
      "execution_count": 5,
      "id": "2f10427e",
      "metadata": {},
      "outputs": [
        {
          "name": "stdout",
          "output_type": "stream",
          "text": [
            "Top Keywords or Phrases in Positive Reviews:\n",
            "good        0.142863\n",
            "delivery    0.114847\n",
            "app         0.102775\n",
            "food        0.090583\n",
            "zomato      0.076577\n",
            "service     0.075852\n",
            "fast        0.063888\n",
            "ðÿ          0.056850\n",
            "best        0.056812\n",
            "time        0.053741\n",
            "dtype: float64\n",
            "\n",
            "Top Keywords or Phrases in Negative Reviews:\n",
            "order         0.107315\n",
            "worst         0.104731\n",
            "bad           0.094444\n",
            "zomato        0.091965\n",
            "food          0.084498\n",
            "service       0.083921\n",
            "delivery      0.081536\n",
            "customer      0.080845\n",
            "app           0.078064\n",
            "experience    0.062443\n",
            "dtype: float64\n"
          ]
        }
      ],
      "source": [
        "import pandas as pd\n",
        "from sklearn.feature_extraction.text import TfidfVectorizer\n",
        "\n",
        "# Create a TF-IDF vectorizer\n",
        "tfidf_vectorizer = TfidfVectorizer(max_features=100, stop_words='english')\n",
        "\n",
        "# Fit and transform the \"review_description\" column\n",
        "tfidf_matrix = tfidf_vectorizer.fit_transform(zomato['review_description'])\n",
        "\n",
        "# Get the feature names (words or phrases)\n",
        "feature_names = tfidf_vectorizer.get_feature_names_out()\n",
        "\n",
        "# Create a DataFrame to display the top keywords or phrases\n",
        "keywords_df = pd.DataFrame(data=tfidf_matrix.toarray(), columns=feature_names)\n",
        "\n",
        "# Find the most common keywords or phrases in positive reviews\n",
        "positive_reviews = zomato[zomato['sentiment'] == 'Positive']\n",
        "positive_keywords = keywords_df.loc[positive_reviews.index].mean().sort_values(ascending=False)\n",
        "\n",
        "# Find the most common keywords or phrases in negative reviews\n",
        "negative_reviews = zomato[zomato['sentiment'] == 'Negative']\n",
        "negative_keywords = keywords_df.loc[negative_reviews.index].mean().sort_values(ascending=False)\n",
        "\n",
        "# Display the top keywords or phrases for positive and negative reviews\n",
        "print(\"Top Keywords or Phrases in Positive Reviews:\")\n",
        "print(positive_keywords.head(10))\n",
        "\n",
        "print(\"\\nTop Keywords or Phrases in Negative Reviews:\")\n",
        "print(negative_keywords.head(10))\n"
      ]
    },
    {
      "cell_type": "markdown",
      "id": "8e54ab4a",
      "metadata": {},
      "source": [
        "### Swiggy"
      ]
    },
    {
      "cell_type": "code",
      "execution_count": 6,
      "id": "f37b35ef",
      "metadata": {},
      "outputs": [
        {
          "name": "stdout",
          "output_type": "stream",
          "text": [
            "Top Keywords or Phrases in Positive Reviews:\n",
            "good        0.137698\n",
            "app         0.110522\n",
            "delivery    0.107824\n",
            "food        0.090936\n",
            "swiggy      0.079847\n",
            "service     0.063212\n",
            "best        0.059411\n",
            "time        0.055023\n",
            "ðÿ          0.053882\n",
            "order       0.051178\n",
            "dtype: float64\n",
            "\n",
            "Top Keywords or Phrases in Negative Reviews:\n",
            "worst       0.115177\n",
            "order       0.104573\n",
            "delivery    0.095116\n",
            "app         0.090313\n",
            "service     0.089577\n",
            "bad         0.086564\n",
            "swiggy      0.082740\n",
            "food        0.073652\n",
            "customer    0.073073\n",
            "time        0.062778\n",
            "dtype: float64\n"
          ]
        }
      ],
      "source": [
        "import pandas as pd\n",
        "from sklearn.feature_extraction.text import TfidfVectorizer\n",
        "\n",
        "# Create a TF-IDF vectorizer\n",
        "tfidf_vectorizer = TfidfVectorizer(max_features=100, stop_words='english')\n",
        "\n",
        "# Fit and transform the \"review_description\" column\n",
        "tfidf_matrix = tfidf_vectorizer.fit_transform(swiggy['review_description'])\n",
        "\n",
        "# Get the feature names (words or phrases)\n",
        "feature_names = tfidf_vectorizer.get_feature_names_out()\n",
        "\n",
        "# Create a DataFrame to display the top keywords or phrases\n",
        "keywords_df = pd.DataFrame(data=tfidf_matrix.toarray(), columns=feature_names)\n",
        "\n",
        "# Find the most common keywords or phrases in positive reviews\n",
        "positive_reviews = swiggy[swiggy['sentiment'] == 'Positive']\n",
        "positive_keywords = keywords_df.loc[positive_reviews.index].mean().sort_values(ascending=False)\n",
        "\n",
        "# Find the most common keywords or phrases in negative reviews\n",
        "negative_reviews = swiggy[swiggy['sentiment'] == 'Negative']\n",
        "negative_keywords = keywords_df.loc[negative_reviews.index].mean().sort_values(ascending=False)\n",
        "\n",
        "# Display the top keywords or phrases for positive and negative reviews\n",
        "print(\"Top Keywords or Phrases in Positive Reviews:\")\n",
        "print(positive_keywords.head(10))\n",
        "\n",
        "print(\"\\nTop Keywords or Phrases in Negative Reviews:\")\n",
        "print(negative_keywords.head(10))\n"
      ]
    },
    {
      "cell_type": "code",
      "execution_count": 7,
      "id": "bd99de4f",
      "metadata": {},
      "outputs": [
        {
          "data": {
            "image/png": "[encoded data removed]",
            "text/plain": [
              "<Figure size 1000x500 with 2 Axes>"
            ]
          },
          "metadata": {},
          "output_type": "display_data"
        }
      ],
      "source": [
        "import matplotlib.pyplot as plt\n",
        "\n",
        "# Data\n",
        "sentiments = ['Positive', 'Negative', 'Neutral']\n",
        "zomato_percentages = [54.89, 31.76, 13.34]\n",
        "swiggy_percentages = [41.91, 42.14, 15.95]\n",
        "\n",
        "# Plotting for Zomato\n",
        "plt.figure(figsize=(10, 5))\n",
        "plt.subplot(1, 2, 1)\n",
        "plt.pie(zomato_percentages, labels=sentiments, autopct='%1.1f%%', startangle=140)\n",
        "plt.title('Zomato Sentiment Distribution')\n",
        "\n",
        "# Plotting for Swiggy\n",
        "plt.subplot(1, 2, 2)\n",
        "plt.pie(swiggy_percentages, labels=sentiments, autopct='%1.1f%%', startangle=140)\n",
        "plt.title('Swiggy Sentiment Distribution')\n",
        "\n",
        "plt.show()\n"
      ]
    },
    {
      "cell_type": "markdown",
      "id": "233f59f5",
      "metadata": {},
      "source": [
        "### Thumbs Up / Thumbs Down"
      ]
    },
    {
      "cell_type": "code",
      "execution_count": 20,
      "id": "c3fded03",
      "metadata": {},
      "outputs": [
        {
          "data": {
            "text/html": [
              "<div>\n",
              "<style scoped>\n",
              "    .dataframe tbody tr th:only-of-type {\n",
              "        vertical-align: middle;\n",
              "    }\n",
              "\n",
              "    .dataframe tbody tr th {\n",
              "        vertical-align: top;\n",
              "    }\n",
              "\n",
              "    .dataframe thead th {\n",
              "        text-align: right;\n",
              "    }\n",
              "</style>\n",
              "<table border=\"1\" class=\"dataframe\">\n",
              "  <thead>\n",
              "    <tr style=\"text-align: right;\">\n",
              "      <th></th>\n",
              "      <th>App</th>\n",
              "      <th>review_date</th>\n",
              "      <th>review_description</th>\n",
              "      <th>rating</th>\n",
              "      <th>thumbsUpCount</th>\n",
              "      <th>developer_response</th>\n",
              "      <th>developer_response_date</th>\n",
              "      <th>appVersion</th>\n",
              "    </tr>\n",
              "  </thead>\n",
              "  <tbody>\n",
              "    <tr>\n",
              "      <th>0</th>\n",
              "      <td>Zomato</td>\n",
              "      <td>2023-05-07 15:42:17</td>\n",
              "      <td>A few months ago, the app worked flawlessly. U...</td>\n",
              "      <td>1</td>\n",
              "      <td>337</td>\n",
              "      <td>NaN</td>\n",
              "      <td>NaT</td>\n",
              "      <td>17.4.6</td>\n",
              "    </tr>\n",
              "    <tr>\n",
              "      <th>1</th>\n",
              "      <td>Zomato</td>\n",
              "      <td>2023-05-12 17:51:32</td>\n",
              "      <td>Great delivery app. But off lately there have ...</td>\n",
              "      <td>2</td>\n",
              "      <td>223</td>\n",
              "      <td>NaN</td>\n",
              "      <td>NaT</td>\n",
              "      <td>17.4.8</td>\n",
              "    </tr>\n",
              "    <tr>\n",
              "      <th>2</th>\n",
              "      <td>Zomato</td>\n",
              "      <td>2023-06-17 14:23:16</td>\n",
              "      <td>Your app and delivery everything is good. But ...</td>\n",
              "      <td>3</td>\n",
              "      <td>525</td>\n",
              "      <td>NaN</td>\n",
              "      <td>NaT</td>\n",
              "      <td>17.5.3</td>\n",
              "    </tr>\n",
              "    <tr>\n",
              "      <th>3</th>\n",
              "      <td>Zomato</td>\n",
              "      <td>2023-06-16 07:19:44</td>\n",
              "      <td>Poor cust. Experience. I ordered items from a ...</td>\n",
              "      <td>2</td>\n",
              "      <td>396</td>\n",
              "      <td>Hi Priya, glad to hear that! Thank you for you...</td>\n",
              "      <td>2022-06-16 10:59:51</td>\n",
              "      <td>17.5.3</td>\n",
              "    </tr>\n",
              "    <tr>\n",
              "      <th>4</th>\n",
              "      <td>Zomato</td>\n",
              "      <td>2023-06-04 18:23:12</td>\n",
              "      <td>Zomato seems to have lost it recently. Have be...</td>\n",
              "      <td>1</td>\n",
              "      <td>296</td>\n",
              "      <td>NaN</td>\n",
              "      <td>NaT</td>\n",
              "      <td>17.5.1</td>\n",
              "    </tr>\n",
              "  </tbody>\n",
              "</table>\n",
              "</div>"
            ],
            "text/plain": [
              "      App         review_date  \\\n",
              "0  Zomato 2023-05-07 15:42:17   \n",
              "1  Zomato 2023-05-12 17:51:32   \n",
              "2  Zomato 2023-06-17 14:23:16   \n",
              "3  Zomato 2023-06-16 07:19:44   \n",
              "4  Zomato 2023-06-04 18:23:12   \n",
              "\n",
              "                                  review_description  rating  thumbsUpCount  \\\n",
              "0  A few months ago, the app worked flawlessly. U...       1            337   \n",
              "1  Great delivery app. But off lately there have ...       2            223   \n",
              "2  Your app and delivery everything is good. But ...       3            525   \n",
              "3  Poor cust. Experience. I ordered items from a ...       2            396   \n",
              "4  Zomato seems to have lost it recently. Have be...       1            296   \n",
              "\n",
              "                                  developer_response developer_response_date  \\\n",
              "0                                                NaN                     NaT   \n",
              "1                                                NaN                     NaT   \n",
              "2                                                NaN                     NaT   \n",
              "3  Hi Priya, glad to hear that! Thank you for you...     2022-06-16 10:59:51   \n",
              "4                                                NaN                     NaT   \n",
              "\n",
              "  appVersion  \n",
              "0     17.4.6  \n",
              "1     17.4.8  \n",
              "2     17.5.3  \n",
              "3     17.5.3  \n",
              "4     17.5.1  "
            ]
          },
          "execution_count": 20,
          "metadata": {},
          "output_type": "execute_result"
        }
      ],
      "source": [
        "zomato.head()"
      ]
    },
    {
      "cell_type": "code",
      "execution_count": 47,
      "id": "71b1f306",
      "metadata": {},
      "outputs": [
        {
          "name": "stdout",
          "output_type": "stream",
          "text": [
            "Accuracy: 0.9059906786404456\n",
            "Classification Report:\n",
            "               precision    recall  f1-score   support\n",
            "\n",
            "           0       0.93      0.97      0.95     15867\n",
            "           1       0.54      0.29      0.38      1727\n",
            "\n",
            "    accuracy                           0.91     17594\n",
            "   macro avg       0.73      0.63      0.66     17594\n",
            "weighted avg       0.89      0.91      0.89     17594\n",
            "\n"
          ]
        },
        {
          "name": "stderr",
          "output_type": "stream",
          "text": [
            "/Library/Frameworks/Python.framework/Versions/3.12/lib/python3.12/site-packages/sklearn/linear_model/_logistic.py:460: ConvergenceWarning: lbfgs failed to converge (status=1):\n",
            "STOP: TOTAL NO. of ITERATIONS REACHED LIMIT.\n",
            "\n",
            "Increase the number of iterations (max_iter) or scale the data as shown in:\n",
            "    https://scikit-learn.org/stable/modules/preprocessing.html\n",
            "Please also refer to the documentation for alternative solver options:\n",
            "    https://scikit-learn.org/stable/modules/linear_model.html#logistic-regression\n",
            "  n_iter_i = _check_optimize_result(\n"
          ]
        }
      ],
      "source": [
        "import pandas as pd\n",
        "from sklearn.model_selection import train_test_split\n",
        "from sklearn.feature_extraction.text import CountVectorizer\n",
        "from sklearn.linear_model import LogisticRegression\n",
        "from sklearn.metrics import accuracy_score, classification_report, roc_curve, auc\n",
        "\n",
        "# Assuming you have a DataFrame 'zomato' with a 'review_description' column\n",
        "X = zomato['review_description'].fillna('')\n",
        "y = zomato['thumbsUpCount']\n",
        "\n",
        "# Convert ratings to binary sentiment labels (1 for positive, 0 for negative)\n",
        "y = (y > 0).astype(int)\n",
        "\n",
        "# Split data into training and testing sets\n",
        "X_train, X_test, y_train, y_test = train_test_split(X, y, test_size=0.2, random_state=42)\n",
        "\n",
        "# Create a Bag-of-Words representation of the text data\n",
        "vectorizer = CountVectorizer()\n",
        "X_train_vectorized = vectorizer.fit_transform(X_train)\n",
        "X_test_vectorized = vectorizer.transform(X_test)\n",
        "\n",
        "# Create and train the model\n",
        "model = LogisticRegression()\n",
        "model.fit(X_train_vectorized, y_train)\n",
        "\n",
        "# Make predictions on the testing data\n",
        "y_pred = model.predict(X_test_vectorized)\n",
        "\n",
        "# Evaluate the model\n",
        "accuracy = accuracy_score(y_test, y_pred)\n",
        "report = classification_report(y_test, y_pred)\n",
        "\n",
        "print(\"Accuracy:\", accuracy)\n",
        "print(\"Classification Report:\\n\", report)\n"
      ]
    },
    {
      "cell_type": "code",
      "execution_count": 48,
      "id": "037c4e95",
      "metadata": {},
      "outputs": [
        {
          "name": "stdout",
          "output_type": "stream",
          "text": [
            "Accuracy: 0.8706237128567226\n",
            "Classification Report:\n",
            "               precision    recall  f1-score   support\n",
            "\n",
            "           0       0.90      0.96      0.93     11738\n",
            "           1       0.55      0.30      0.39      1858\n",
            "\n",
            "    accuracy                           0.87     13596\n",
            "   macro avg       0.72      0.63      0.66     13596\n",
            "weighted avg       0.85      0.87      0.85     13596\n",
            "\n"
          ]
        },
        {
          "name": "stderr",
          "output_type": "stream",
          "text": [
            "/Library/Frameworks/Python.framework/Versions/3.12/lib/python3.12/site-packages/sklearn/linear_model/_logistic.py:460: ConvergenceWarning: lbfgs failed to converge (status=1):\n",
            "STOP: TOTAL NO. of ITERATIONS REACHED LIMIT.\n",
            "\n",
            "Increase the number of iterations (max_iter) or scale the data as shown in:\n",
            "    https://scikit-learn.org/stable/modules/preprocessing.html\n",
            "Please also refer to the documentation for alternative solver options:\n",
            "    https://scikit-learn.org/stable/modules/linear_model.html#logistic-regression\n",
            "  n_iter_i = _check_optimize_result(\n"
          ]
        }
      ],
      "source": [
        "# Assuming you have a DataFrame 'zomato' with a 'review_description' column\n",
        "X = swiggy['review_description']\n",
        "y = swiggy['thumbsUpCount']\n",
        "\n",
        "# Convert ratings to binary sentiment labels (1 for positive, 0 for negative)\n",
        "y = (y > 0).astype(int)\n",
        "\n",
        "# Split data into training and testing sets\n",
        "X_train, X_test, y_train, y_test = train_test_split(X, y, test_size=0.2, random_state=42)\n",
        "\n",
        "# Create a Bag-of-Words representation of the text data\n",
        "vectorizer = CountVectorizer()\n",
        "X_train_vectorized = vectorizer.fit_transform(X_train)\n",
        "X_test_vectorized = vectorizer.transform(X_test)\n",
        "\n",
        "# Create and train the model\n",
        "model = LogisticRegression()\n",
        "model.fit(X_train_vectorized, y_train)\n",
        "\n",
        "# Make predictions on the testing data\n",
        "y_pred = model.predict(X_test_vectorized)\n",
        "\n",
        "# Evaluate the model\n",
        "accuracy = accuracy_score(y_test, y_pred)\n",
        "report = classification_report(y_test, y_pred)\n",
        "\n",
        "print(\"Accuracy:\", accuracy)\n",
        "print(\"Classification Report:\\n\", report)\n"
      ]
    }
  ],
  "metadata": {
    "colab": {
      "provenance": []
    },
    "kernelspec": {
      "display_name": "Python 3 (ipykernel)",
      "language": "python",
      "name": "python3"
    },
    "language_info": {
      "codemirror_mode": {
        "name": "ipython",
        "version": 3
      },
      "file_extension": ".py",
      "mimetype": "text/x-python",
      "name": "python",
      "nbconvert_exporter": "python",
      "pygments_lexer": "ipython3",
      "version": "3.12.0"
    }
  },
  "nbformat": 4,
  "nbformat_minor": 5
}
