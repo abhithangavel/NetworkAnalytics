{
  "cells": [
    {
      "cell_type": "code",
      "execution_count": 1,
      "id": "3a8c799f",
      "metadata": {
        "id": "3a8c799f"
      },
      "outputs": [],
      "source": [
        "import numpy as np\n",
        "import pandas as pd\n",
        "import matplotlib.pyplot as plt\n",
        "import seaborn as sns"
      ]
    },
    {
      "cell_type": "code",
      "execution_count": 2,
      "id": "8bd1fb94",
      "metadata": {
        "id": "8bd1fb94"
      },
      "outputs": [],
      "source": [
        "zomato = pd.read_excel('/Users/abhi/Desktop/MSU/8. Coursework/3. Fall Semester/ITM881_Network Analytics/03_Project/Zomato_filtered.xlsx')\n",
        "swiggy = pd.read_excel('/Users/abhi/Desktop/MSU/8. Coursework/3. Fall Semester/ITM881_Network Analytics/03_Project/Swiggy_filtered.xlsx')"
      ]
    },
    {
      "cell_type": "markdown",
      "id": "d2ce20e7",
      "metadata": {},
      "source": [
        "### Sentiment Analysis"
      ]
    },
    {
      "cell_type": "code",
      "execution_count": 3,
      "id": "fe4dbfe6",
      "metadata": {},
      "outputs": [
        {
          "name": "stdout",
          "output_type": "stream",
          "text": [
            "                                      review_description sentiment\n",
            "0      A few months ago, the app worked flawlessly. U...  Positive\n",
            "1      Great delivery app. But off lately there have ...  Positive\n",
            "2      Your app and delivery everything is good. But ...  Positive\n",
            "3      Poor cust. Experience. I ordered items from a ...  Negative\n",
            "4      Zomato seems to have lost it recently. Have be...  Negative\n",
            "...                                                  ...       ...\n",
            "87964                   Very fast dilevery very good app  Positive\n",
            "87965  Good food with discounted from famous restaura...  Positive\n",
            "87966               Your delivery is so fast . I like it  Positive\n",
            "87967                 Nice service&cashback is very good  Positive\n",
            "87968                                      Gold is Gold!   Neutral\n",
            "\n",
            "[87969 rows x 2 columns]\n",
            "                                      review_description sentiment\n",
            "0      Swiggy clearly has to be one of the worst apps...  Negative\n",
            "1      The delivery time for each order has been ridi...  Positive\n",
            "2      used to be great. now it seems like they fired...  Positive\n",
            "3      Extremely horrible experience since the last f...   Neutral\n",
            "4      Swiggy doesn't compensate for your loss. One o...  Negative\n",
            "...                                                  ...       ...\n",
            "67973                               Very Nice Service !!  Positive\n",
            "67974  Hate it because of high delivery charges and l...  Negative\n",
            "67975                      good service thanks to Swiggy  Positive\n",
            "67976                            Good app, nice delivery  Positive\n",
            "67977  Worst app as well as the uneducated customer s...  Negative\n",
            "\n",
            "[67978 rows x 2 columns]\n"
          ]
        }
      ],
      "source": [
        "from textblob import TextBlob\n",
        "\n",
        "zomato['review_description'] = zomato['review_description'].astype(str)\n",
        "swiggy['review_description'] = swiggy['review_description'].astype(str)\n",
        "\n",
        "# Create a function to analyze sentiment\n",
        "def analyze_sentiment(text):\n",
        "    analysis = TextBlob(text)\n",
        "    if analysis.sentiment.polarity > 0.05:\n",
        "        return 'Positive'\n",
        "    elif analysis.sentiment.polarity < -0.05:\n",
        "        return 'Negative'\n",
        "    else:\n",
        "        return 'Neutral'\n",
        "\n",
        "zomato['sentiment'] = zomato['review_description'].apply(analyze_sentiment)\n",
        "swiggy['sentiment'] = swiggy['review_description'].apply(analyze_sentiment)\n",
        "\n",
        "# Display the resulting DataFrame with sentiment labels\n",
        "print(zomato[['review_description', 'sentiment']])\n",
        "print(swiggy[['review_description', 'sentiment']])\n"
      ]
    },
    {
      "cell_type": "code",
      "execution_count": 4,
      "id": "a320b6aa",
      "metadata": {},
      "outputs": [
        {
          "name": "stdout",
          "output_type": "stream",
          "text": [
            "Percentage of Positive Sentiments for Zomato: 54.89%\n",
            "Percentage of Negative Sentiments for Zomato: 31.76%\n",
            "Percentage of Neutral Sentiments for Zomato: 13.34%\n",
            "Percentage of Positive Sentiments for Swiggy: 41.91%\n",
            "Percentage of Negative Sentiments for Swiggy: 42.14%\n",
            "Percentage of Neutral Sentiments for Swiggy: 15.95%\n"
          ]
        }
      ],
      "source": [
        "# Count the number of occurrences for each sentiment label\n",
        "sentiment_counts_zomato = zomato['sentiment'].value_counts()\n",
        "sentiment_counts_swiggy = swiggy['sentiment'].value_counts()\n",
        "\n",
        "# Calculate the total number of samples\n",
        "total_samples_zomato = len(zomato)\n",
        "total_samples_swiggy = len(swiggy)\n",
        "\n",
        "\n",
        "# Calculate the percentage of each sentiment\n",
        "percentage_positive_z = (sentiment_counts_zomato.get('Positive', 0) / total_samples_zomato) * 100\n",
        "percentage_negative_z = (sentiment_counts_zomato.get('Negative', 0) / total_samples_zomato) * 100\n",
        "percentage_neutral_z = (sentiment_counts_zomato.get('Neutral', 0) / total_samples_zomato) * 100\n",
        "\n",
        "# Display the percentages\n",
        "print(f\"Percentage of Positive Sentiments for Zomato: {percentage_positive_z:.2f}%\")\n",
        "print(f\"Percentage of Negative Sentiments for Zomato: {percentage_negative_z:.2f}%\")\n",
        "print(f\"Percentage of Neutral Sentiments for Zomato: {percentage_neutral_z:.2f}%\")\n",
        "\n",
        "# Calculate the percentage of each sentiment\n",
        "percentage_positive_s = (sentiment_counts_swiggy.get('Positive', 0) / total_samples_swiggy) * 100\n",
        "percentage_negative_s = (sentiment_counts_swiggy.get('Negative', 0) / total_samples_swiggy) * 100\n",
        "percentage_neutral_s = (sentiment_counts_swiggy.get('Neutral', 0) / total_samples_swiggy) * 100\n",
        "\n",
        "# Display the percentages\n",
        "print(f\"Percentage of Positive Sentiments for Swiggy: {percentage_positive_s:.2f}%\")\n",
        "print(f\"Percentage of Negative Sentiments for Swiggy: {percentage_negative_s:.2f}%\")\n",
        "print(f\"Percentage of Neutral Sentiments for Swiggy: {percentage_neutral_s:.2f}%\")\n"
      ]
    },
    {
      "cell_type": "markdown",
      "id": "4a491e8f",
      "metadata": {},
      "source": [
        "### Zomato"
      ]
    },
    {
      "cell_type": "code",
      "execution_count": 8,
      "id": "2f10427e",
      "metadata": {},
      "outputs": [
        {
          "name": "stdout",
          "output_type": "stream",
          "text": [
            "Top Keywords or Phrases in Positive Reviews:\n",
            "good        0.142863\n",
            "delivery    0.114847\n",
            "app         0.102775\n",
            "food        0.090583\n",
            "zomato      0.076577\n",
            "service     0.075852\n",
            "fast        0.063888\n",
            "ðÿ          0.056850\n",
            "best        0.056812\n",
            "time        0.053741\n",
            "dtype: float64\n",
            "\n",
            "Top Keywords or Phrases in Negative Reviews:\n",
            "order         0.107315\n",
            "worst         0.104731\n",
            "bad           0.094444\n",
            "zomato        0.091965\n",
            "food          0.084498\n",
            "service       0.083921\n",
            "delivery      0.081536\n",
            "customer      0.080845\n",
            "app           0.078064\n",
            "experience    0.062443\n",
            "dtype: float64\n"
          ]
        }
      ],
      "source": [
        "import pandas as pd\n",
        "from sklearn.feature_extraction.text import TfidfVectorizer\n",
        "\n",
        "# Create a TF-IDF vectorizer\n",
        "tfidf_vectorizer = TfidfVectorizer(max_features=100, stop_words='english')\n",
        "\n",
        "# Fit and transform the \"review_description\" column\n",
        "tfidf_matrix = tfidf_vectorizer.fit_transform(zomato['review_description'])\n",
        "\n",
        "# Get the feature names (words or phrases)\n",
        "feature_names = tfidf_vectorizer.get_feature_names_out()\n",
        "\n",
        "# Create a DataFrame to display the top keywords or phrases\n",
        "keywords_df = pd.DataFrame(data=tfidf_matrix.toarray(), columns=feature_names)\n",
        "\n",
        "# Find the most common keywords or phrases in positive reviews\n",
        "positive_reviews = zomato[zomato['sentiment'] == 'Positive']\n",
        "positive_keywords = keywords_df.loc[positive_reviews.index].mean().sort_values(ascending=False)\n",
        "\n",
        "# Find the most common keywords or phrases in negative reviews\n",
        "negative_reviews = zomato[zomato['sentiment'] == 'Negative']\n",
        "negative_keywords = keywords_df.loc[negative_reviews.index].mean().sort_values(ascending=False)\n",
        "\n",
        "# Display the top keywords or phrases for positive and negative reviews\n",
        "print(\"Top Keywords or Phrases in Positive Reviews:\")\n",
        "print(positive_keywords.head(10))\n",
        "\n",
        "print(\"\\nTop Keywords or Phrases in Negative Reviews:\")\n",
        "print(negative_keywords.head(10))\n"
      ]
    },
    {
      "cell_type": "markdown",
      "id": "8e54ab4a",
      "metadata": {},
      "source": [
        "### Swiggy"
      ]
    },
    {
      "cell_type": "code",
      "execution_count": 9,
      "id": "f37b35ef",
      "metadata": {},
      "outputs": [
        {
          "name": "stdout",
          "output_type": "stream",
          "text": [
            "Top Keywords or Phrases in Positive Reviews:\n",
            "good        0.137698\n",
            "app         0.110522\n",
            "delivery    0.107824\n",
            "food        0.090936\n",
            "swiggy      0.079847\n",
            "service     0.063212\n",
            "best        0.059411\n",
            "time        0.055023\n",
            "ðÿ          0.053882\n",
            "order       0.051178\n",
            "dtype: float64\n",
            "\n",
            "Top Keywords or Phrases in Negative Reviews:\n",
            "worst       0.115177\n",
            "order       0.104573\n",
            "delivery    0.095116\n",
            "app         0.090313\n",
            "service     0.089577\n",
            "bad         0.086564\n",
            "swiggy      0.082740\n",
            "food        0.073652\n",
            "customer    0.073073\n",
            "time        0.062778\n",
            "dtype: float64\n"
          ]
        }
      ],
      "source": [
        "import pandas as pd\n",
        "from sklearn.feature_extraction.text import TfidfVectorizer\n",
        "\n",
        "# Create a TF-IDF vectorizer\n",
        "tfidf_vectorizer = TfidfVectorizer(max_features=100, stop_words='english')\n",
        "\n",
        "# Fit and transform the \"review_description\" column\n",
        "tfidf_matrix = tfidf_vectorizer.fit_transform(swiggy['review_description'])\n",
        "\n",
        "# Get the feature names (words or phrases)\n",
        "feature_names = tfidf_vectorizer.get_feature_names_out()\n",
        "\n",
        "# Create a DataFrame to display the top keywords or phrases\n",
        "keywords_df = pd.DataFrame(data=tfidf_matrix.toarray(), columns=feature_names)\n",
        "\n",
        "# Find the most common keywords or phrases in positive reviews\n",
        "positive_reviews = swiggy[swiggy['sentiment'] == 'Positive']\n",
        "positive_keywords = keywords_df.loc[positive_reviews.index].mean().sort_values(ascending=False)\n",
        "\n",
        "# Find the most common keywords or phrases in negative reviews\n",
        "negative_reviews = swiggy[swiggy['sentiment'] == 'Negative']\n",
        "negative_keywords = keywords_df.loc[negative_reviews.index].mean().sort_values(ascending=False)\n",
        "\n",
        "# Display the top keywords or phrases for positive and negative reviews\n",
        "print(\"Top Keywords or Phrases in Positive Reviews:\")\n",
        "print(positive_keywords.head(10))\n",
        "\n",
        "print(\"\\nTop Keywords or Phrases in Negative Reviews:\")\n",
        "print(negative_keywords.head(10))\n"
      ]
    }
  ],
  "metadata": {
    "colab": {
      "provenance": []
    },
    "kernelspec": {
      "display_name": "Python 3 (ipykernel)",
      "language": "python",
      "name": "python3"
    },
    "language_info": {
      "codemirror_mode": {
        "name": "ipython",
        "version": 3
      },
      "file_extension": ".py",
      "mimetype": "text/x-python",
      "name": "python",
      "nbconvert_exporter": "python",
      "pygments_lexer": "ipython3",
      "version": "3.12.0"
    }
  },
  "nbformat": 4,
  "nbformat_minor": 5
}
